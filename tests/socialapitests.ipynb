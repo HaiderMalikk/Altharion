{
 "cells": [
  {
   "cell_type": "markdown",
   "metadata": {},
   "source": []
  },
  {
   "cell_type": "markdown",
   "metadata": {},
   "source": [
    "| **API**                | **Free Access**       | **Rate Limits**                       | **Key Features**                                                           | **Data Type**                    | **Usage**                                                                                     |\n",
    "|------------------------|-----------------------|---------------------------------------|---------------------------------------------------------------------------|----------------------------------|----------------------------------------------------------------------------------------------|\n",
    "| **Twitter API**         | ✅ Free (Basic Tier)   | 500,000 tweets per month (Basic Tier) | Real-time tweets, hashtags, mentions, user profiles, tweet sentiments     | Tweets, Mentions, Hashtags       | Use to monitor real-time sentiment for stocks and track relevant keywords/hashtags.           |\n",
    "| **Reddit API**          | ✅ Free               | 60 requests per minute (standard)     | Search stock discussions, view posts, comments, upvotes, and more         | Posts, Comments, Upvotes         | Use to analyze discussions on stock subreddits and gather opinions and sentiments.             |\n",
    "| **Google Trends (Pytrends)** | ✅ Free           | No official rate limit               | Track search interest over time, compare multiple search terms             | Search Volume, Interest Over Time| Use to analyze public interest in stocks based on search queries and compare trends over time. |\n",
    "\n",
    "# 🛠️ How to Get API Keys for Twitter, Reddit, and Google Trends (Pytrends)\n",
    "\n",
    "## 1️⃣ **Getting Twitter API Key**\n",
    "\n",
    "To access the Twitter API, you need to create a **developer account** and generate API credentials.\n",
    "\n",
    "### Steps:\n",
    "1. Go to [Twitter Developer](https://developer.twitter.com/) and log in with your Twitter account.\n",
    "2. Apply for **developer access** by creating a new project/application.\n",
    "3. Once approved, go to the **Dashboard** and select your app.\n",
    "4. Under your app settings, find and copy the following credentials:\n",
    "   - **API Key** (Consumer Key)\n",
    "   - **API Secret Key** (Consumer Secret)\n",
    "   - **Access Token**\n",
    "   - **Access Token Secret**\n",
    "\n",
    "### Required Fields:\n",
    "- **API Key** (Consumer Key)\n",
    "- **API Secret Key** (Consumer Secret)\n",
    "- **Access Token**\n",
    "- **Access Token Secret**\n",
    "\n",
    "---\n",
    "\n",
    "## 2️⃣ **Getting Reddit API Key**\n",
    "\n",
    "To use Reddit’s API, you’ll need to create an application in Reddit’s developer portal.\n",
    "\n",
    "### Steps:\n",
    "1. Visit [Reddit Developer](https://www.reddit.com/prefs/apps) and log in with your Reddit account.\n",
    "2. Scroll down to **Developed Applications** and click **Create App**.\n",
    "3. Fill out the form with the following information:\n",
    "   - **name**: Choose a name for your application.\n",
    "   - **App type**: Select **script**.\n",
    "   - **description**: Optional.\n",
    "   - **about URL**: Optional.\n",
    "   - **redirect URI**: Set it to `http://localhost:8000` (or a relevant URL for your app).\n",
    "4. After creating the app, you will get the following credentials:\n",
    "   - **Client ID** (located under your app name)\n",
    "   - **Client Secret**\n",
    "\n",
    "### Required Fields:\n",
    "- **Client ID**\n",
    "- **Client Secret**\n",
    "\n",
    "---\n",
    "\n",
    "## 3️⃣ **Getting Google Trends API Key (Pytrends)**\n",
    "\n",
    "Google Trends doesn’t require an API key but requires installing the **Pytrends** library for Python.\n",
    "\n",
    "### Steps:\n",
    "1. Install **Pytrends** using pip:\n",
    "   ```sh\n",
    "   pip install pytrends\n"
   ]
  },
  {
   "cell_type": "code",
   "execution_count": 2,
   "metadata": {},
   "outputs": [
    {
     "name": "stdout",
     "output_type": "stream",
     "text": [
      "✅ Authenticated as: Interesting-Effect-0\n",
      "🔥 Luigi Mangione appears in New York State court (38855 upvotes)\n",
      "🔥 Trump threatening a governor (29588 upvotes)\n",
      "🔥 President Trump openly threatens the Governor of Maine (12368 upvotes)\n",
      "🔥 It's Over - Gator Days (OC) (19863 upvotes)\n",
      "🔥 83 percent of Americans disapprove of Trump’s Jan. 6 pardons: Poll (12044 upvotes)\n",
      "🔥 Trump Acknowledges Russia 'Attacked' Ukraine But Defends Putin (26338 upvotes)\n",
      "🔥 This is staging behind my store and my staff just dipped out… (28832 upvotes)\n",
      "🔥 Diddy's lawyer quits, says ‘under no circumstances can I continue’ (26214 upvotes)\n",
      "🔥 Hunter Schafer reveals that her passport now lists her sex as male instead of female following Trump’s executive order: “Trans people are beautiful. We are never going to stop existing. I’m never going to stop being trans. A letter on a passport can’t change that & fuck this administration.” (16768 upvotes)\n",
      "🔥 Elon Musks jet tracker moves to blue sky (11679 upvotes)\n"
     ]
    }
   ],
   "source": [
    "import praw\n",
    "import os\n",
    "from dotenv import load_dotenv\n",
    "load_dotenv()\n",
    "\n",
    "reddit_client_id = os.getenv(\"REDDIT_CLIENT_ID\")\n",
    "reddit_client_secret = os.getenv(\"REDDIT_CLIENT_SECRET\")\n",
    "reddit_user_agent = os.getenv(\"REDDIT_USER_AGENT\")\n",
    "reddit_username = os.getenv(\"REDDIT_USERNAME\")\n",
    "reddit_password = os.getenv(\"REDDIT_PASSWORD\")\n",
    "\n",
    "# Reddit API credentials\n",
    "reddit = praw.Reddit(\n",
    "    client_id=reddit_client_id,\n",
    "    client_secret=reddit_client_secret,\n",
    "    user_agent=reddit_user_agent,\n",
    "    username=reddit_username,\n",
    "    password=reddit_password\n",
    ")\n",
    "\n",
    "# Test authentication\n",
    "print(f\"✅ Authenticated as: {reddit.user.me()}\")\n",
    "\n",
    "# Get trending posts from r/all\n",
    "trending_posts = reddit.subreddit(\"all\").hot(limit=10)\n",
    "\n",
    "for post in trending_posts:\n",
    "    print(f\"🔥 {post.title} ({post.score} upvotes)\") "
   ]
  },
  {
   "cell_type": "code",
   "execution_count": null,
   "metadata": {},
   "outputs": [],
   "source": [
    "import tweepy\n",
    "import os\n",
    "from dotenv import load_dotenv\n",
    "load_dotenv()\n",
    "\n",
    "# API Credentials (Replace with your keys)\n",
    "API_KEY = os.getenv(\"TWITTER_API_KEY\")\n",
    "API_SECRET = os.getenv(\"TWITTER_API_SECRET\")\n",
    "ACCESS_TOKEN = os.getenv(\"TWITTER_ACCESS_TOKEN\")\n",
    "ACCESS_SECRET = os.getenv(\"TWITTER_ACCESS_SECRET\")\n",
    "BEARER_TOKEN = os.getenv(\"TWITTER_BEARER_TOKEN\")\n",
    "\n",
    "# Authenticate with Twitter using v2 API\n",
    "client = tweepy.Client(bearer_token=BEARER_TOKEN,consumer_key=API_KEY, consumer_secret=API_SECRET,\n",
    "                       access_token=ACCESS_TOKEN, access_token_secret=ACCESS_SECRET)\n",
    "\n",
    "# Search recent tweets mentioning \"Tesla\"\n",
    "query = \"Tesla -is:retweet\"\n",
    "tweets = client.search_recent_tweets(query=query, max_results=10)\n",
    "\n",
    "# Print the results\n",
    "if tweets.data:\n",
    "    for tweet in tweets.data:\n",
    "        print(f\"User: {tweet.author_id}, Tweet: {tweet.text}\\n\")\n",
    "else:\n",
    "    print(\"No tweets found.\")\n",
    "\n",
    "print()"
   ]
  },
  {
   "cell_type": "code",
   "execution_count": 1,
   "metadata": {},
   "outputs": [
    {
     "name": "stdout",
     "output_type": "stream",
     "text": [
      "                     Tesla stock  isPartial\n",
      "date                                       \n",
      "2025-02-14 21:00:00           65      False\n",
      "2025-02-14 22:00:00           55      False\n",
      "2025-02-14 23:00:00           41      False\n",
      "2025-02-15 00:00:00           35      False\n",
      "2025-02-15 01:00:00           30      False\n",
      "...                          ...        ...\n",
      "2025-02-21 17:00:00           67      False\n",
      "2025-02-21 18:00:00           66      False\n",
      "2025-02-21 19:00:00           68      False\n",
      "2025-02-21 20:00:00           65      False\n",
      "2025-02-21 21:00:00           75       True\n",
      "\n",
      "[169 rows x 2 columns]\n"
     ]
    },
    {
     "name": "stderr",
     "output_type": "stream",
     "text": [
      "/Users/haidermalik/Documents/Code/Altharion/altharion-venv/lib/python3.10/site-packages/pytrends/request.py:260: FutureWarning: Downcasting object dtype arrays on .fillna, .ffill, .bfill is deprecated and will change in a future version. Call result.infer_objects(copy=False) instead. To opt-in to the future behavior, set `pd.set_option('future.no_silent_downcasting', True)`\n",
      "  df = df.fillna(False)\n"
     ]
    }
   ],
   "source": [
    "from pytrends.request import TrendReq\n",
    "\n",
    "pytrends = TrendReq()\n",
    "pytrends.build_payload(kw_list=[\"Tesla stock\"], timeframe=\"now 7-d\", geo=\"US\")\n",
    "\n",
    "data = pytrends.interest_over_time()\n",
    "print(data) \n"
   ]
  }
 ],
 "metadata": {
  "kernelspec": {
   "display_name": "altharion-venv",
   "language": "python",
   "name": "python3"
  },
  "language_info": {
   "codemirror_mode": {
    "name": "ipython",
    "version": 3
   },
   "file_extension": ".py",
   "mimetype": "text/x-python",
   "name": "python",
   "nbconvert_exporter": "python",
   "pygments_lexer": "ipython3",
   "version": "3.10.10"
  }
 },
 "nbformat": 4,
 "nbformat_minor": 2
}
