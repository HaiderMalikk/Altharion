{
 "cells": [
  {
   "cell_type": "markdown",
   "metadata": {},
   "source": [
    "## 📊 Stock Market API Comparison Chart\n",
    "\n",
    "| API            | Free Tier          | Usage Limits                 | Data Types                     | Real-Time Data | Historical Data | Technical Indicators | Crypto & Forex |\n",
    "|---------------|--------------------|------------------------------|--------------------------------|---------------|----------------|----------------------|----------------|\n",
    "| **Yahoo Finance (`yfinance`)** | ✅ Free            | No hard limit (Unofficial)   | Stocks, ETFs, Commodities      | ❌ No (Delayed) | ✅ Yes (Full history) | ✅ Yes (Moving Avg, RSI) | ❌ No  |\n",
    "| **Alpha Vantage**   | ✅ Free (5 calls/min) | 25 requests/day (Free tier)  | Stocks, Crypto, Forex          | ❌ No          | ✅ Yes (Full history) | ✅ Yes (RSI, MACD, SMA, EMA) | ✅ Yes |\n",
    "| **Finnhub**         | ✅ Free (60 calls/min) | 60 requests/min (Free tier) | Stocks, Forex, Crypto          | ✅ Yes         | ✅ Yes (Full history) | ✅ Yes (SMA, EMA, MACD) | ✅ Yes |\n",
    "| **Twelve Data**     | ✅ Free (800 requests/month) | 8 requests/min (Free tier) | Stocks, Crypto, Forex          | ✅ Yes         | ✅ Yes (Full history) | ✅ Yes | ✅ Yes |\n",
    "| **Polygon.io**      | ❌ No Free Tier  | Paid plans only             | Stocks, Options, Forex, Crypto | ✅ Yes (Full Order Book) | ✅ Yes | ✅ Yes (AI Insights) | ✅ Yes |\n",
    "| **MarketStack**     | ✅ Free (1,000 requests/month) | 1,000 requests/month (Free) | Stocks (End-of-day data)       | ❌ No         | ✅ Yes | ❌ No | ❌ No |\n",
    "\n",
    "---\n",
    "\n",
    "## 🏆 Which API Should You Use?\n",
    "\n",
    "- **Best Free Option** → `yfinance` (No API key, unlimited requests)\n",
    "- **For Real-Time Data** → `Finnhub`, `Twelve Data`, `Polygon.io`\n",
    "- **For Technical Indicators** → `Alpha Vantage`, `Finnhub`, `Twelve Data`\n",
    "- **For Crypto & Forex** → `Alpha Vantage`, `Finnhub`, `Twelve Data`\n",
    "- **For Large-Scale Trading** → `Polygon.io` (Paid)\n",
    "\n",
    "---\n",
    "\n",
    "## 🔗 Get API Keys:\n",
    "\n",
    "- [Yahoo Finance (`yfinance`)](https://pypi.org/project/yfinance/) → No API key needed  \n",
    "- [Alpha Vantage](https://www.alphavantage.co/support/#api-key)  \n",
    "- [Finnhub](https://finnhub.io/register)  \n",
    "- [Twelve Data](https://twelvedata.com/)  \n",
    "- [Polygon.io](https://polygon.io/)  \n",
    "- [MarketStack](https://marketstack.com/)  \n",
    "\n"
   ]
  },
  {
   "cell_type": "code",
   "execution_count": 5,
   "metadata": {},
   "outputs": [
    {
     "name": "stderr",
     "output_type": "stream",
     "text": [
      "$B: possibly delisted; no price data found  (period=1mo)\n"
     ]
    },
    {
     "ename": "IndexError",
     "evalue": "list index out of range",
     "output_type": "error",
     "traceback": [
      "\u001b[0;31m---------------------------------------------------------------------------\u001b[0m",
      "\u001b[0;31mIndexError\u001b[0m                                Traceback (most recent call last)",
      "Cell \u001b[0;32mIn[5], line 10\u001b[0m\n\u001b[1;32m      7\u001b[0m historical_data \u001b[38;5;241m=\u001b[39m stock\u001b[38;5;241m.\u001b[39mhistory(period\u001b[38;5;241m=\u001b[39m\u001b[38;5;124m\"\u001b[39m\u001b[38;5;124m1mo\u001b[39m\u001b[38;5;124m\"\u001b[39m)  \n\u001b[1;32m      9\u001b[0m \u001b[38;5;66;03m# Get current stock price\u001b[39;00m\n\u001b[0;32m---> 10\u001b[0m \u001b[38;5;28mprint\u001b[39m(\u001b[38;5;124m\"\u001b[39m\u001b[38;5;124mCurrent Price:\u001b[39m\u001b[38;5;124m\"\u001b[39m, \u001b[43mstock\u001b[49m\u001b[38;5;241;43m.\u001b[39;49m\u001b[43minfo\u001b[49m[\u001b[38;5;124m\"\u001b[39m\u001b[38;5;124mcurrentPrice\u001b[39m\u001b[38;5;124m\"\u001b[39m])\n",
      "File \u001b[0;32m~/Documents/Code/Altharion/altharion-venv/lib/python3.10/site-packages/yfinance/ticker.py:159\u001b[0m, in \u001b[0;36mTicker.info\u001b[0;34m(self)\u001b[0m\n\u001b[1;32m    157\u001b[0m \u001b[38;5;129m@property\u001b[39m\n\u001b[1;32m    158\u001b[0m \u001b[38;5;28;01mdef\u001b[39;00m\u001b[38;5;250m \u001b[39m\u001b[38;5;21minfo\u001b[39m(\u001b[38;5;28mself\u001b[39m) \u001b[38;5;241m-\u001b[39m\u001b[38;5;241m>\u001b[39m \u001b[38;5;28mdict\u001b[39m:\n\u001b[0;32m--> 159\u001b[0m     \u001b[38;5;28;01mreturn\u001b[39;00m \u001b[38;5;28;43mself\u001b[39;49m\u001b[38;5;241;43m.\u001b[39;49m\u001b[43mget_info\u001b[49m\u001b[43m(\u001b[49m\u001b[43m)\u001b[49m\n",
      "File \u001b[0;32m~/Documents/Code/Altharion/altharion-venv/lib/python3.10/site-packages/yfinance/base.py:232\u001b[0m, in \u001b[0;36mTickerBase.get_info\u001b[0;34m(self, proxy)\u001b[0m\n\u001b[1;32m    230\u001b[0m \u001b[38;5;28;01mdef\u001b[39;00m\u001b[38;5;250m \u001b[39m\u001b[38;5;21mget_info\u001b[39m(\u001b[38;5;28mself\u001b[39m, proxy\u001b[38;5;241m=\u001b[39m\u001b[38;5;28;01mNone\u001b[39;00m) \u001b[38;5;241m-\u001b[39m\u001b[38;5;241m>\u001b[39m \u001b[38;5;28mdict\u001b[39m:\n\u001b[1;32m    231\u001b[0m     \u001b[38;5;28mself\u001b[39m\u001b[38;5;241m.\u001b[39m_quote\u001b[38;5;241m.\u001b[39mproxy \u001b[38;5;241m=\u001b[39m proxy \u001b[38;5;129;01mor\u001b[39;00m \u001b[38;5;28mself\u001b[39m\u001b[38;5;241m.\u001b[39mproxy\n\u001b[0;32m--> 232\u001b[0m     data \u001b[38;5;241m=\u001b[39m \u001b[38;5;28;43mself\u001b[39;49m\u001b[38;5;241;43m.\u001b[39;49m\u001b[43m_quote\u001b[49m\u001b[38;5;241;43m.\u001b[39;49m\u001b[43minfo\u001b[49m\n\u001b[1;32m    233\u001b[0m     \u001b[38;5;28;01mreturn\u001b[39;00m data\n",
      "File \u001b[0;32m~/Documents/Code/Altharion/altharion-venv/lib/python3.10/site-packages/yfinance/scrapers/quote.py:508\u001b[0m, in \u001b[0;36mQuote.info\u001b[0;34m(self)\u001b[0m\n\u001b[1;32m    505\u001b[0m \u001b[38;5;129m@property\u001b[39m\n\u001b[1;32m    506\u001b[0m \u001b[38;5;28;01mdef\u001b[39;00m\u001b[38;5;250m \u001b[39m\u001b[38;5;21minfo\u001b[39m(\u001b[38;5;28mself\u001b[39m) \u001b[38;5;241m-\u001b[39m\u001b[38;5;241m>\u001b[39m \u001b[38;5;28mdict\u001b[39m:\n\u001b[1;32m    507\u001b[0m     \u001b[38;5;28;01mif\u001b[39;00m \u001b[38;5;28mself\u001b[39m\u001b[38;5;241m.\u001b[39m_info \u001b[38;5;129;01mis\u001b[39;00m \u001b[38;5;28;01mNone\u001b[39;00m:\n\u001b[0;32m--> 508\u001b[0m         \u001b[38;5;28;43mself\u001b[39;49m\u001b[38;5;241;43m.\u001b[39;49m\u001b[43m_fetch_info\u001b[49m\u001b[43m(\u001b[49m\u001b[38;5;28;43mself\u001b[39;49m\u001b[38;5;241;43m.\u001b[39;49m\u001b[43mproxy\u001b[49m\u001b[43m)\u001b[49m\n\u001b[1;32m    509\u001b[0m         \u001b[38;5;28mself\u001b[39m\u001b[38;5;241m.\u001b[39m_fetch_complementary(\u001b[38;5;28mself\u001b[39m\u001b[38;5;241m.\u001b[39mproxy)\n\u001b[1;32m    511\u001b[0m     \u001b[38;5;28;01mreturn\u001b[39;00m \u001b[38;5;28mself\u001b[39m\u001b[38;5;241m.\u001b[39m_info\n",
      "File \u001b[0;32m~/Documents/Code/Altharion/altharion-venv/lib/python3.10/site-packages/yfinance/scrapers/quote.py:618\u001b[0m, in \u001b[0;36mQuote._fetch_info\u001b[0;34m(self, proxy)\u001b[0m\n\u001b[1;32m    616\u001b[0m \u001b[38;5;28;01mfor\u001b[39;00m quote \u001b[38;5;129;01min\u001b[39;00m [\u001b[38;5;124m\"\u001b[39m\u001b[38;5;124mquoteSummary\u001b[39m\u001b[38;5;124m\"\u001b[39m, \u001b[38;5;124m\"\u001b[39m\u001b[38;5;124mquoteResponse\u001b[39m\u001b[38;5;124m\"\u001b[39m]:\n\u001b[1;32m    617\u001b[0m     \u001b[38;5;28;01mif\u001b[39;00m quote \u001b[38;5;129;01min\u001b[39;00m result:\n\u001b[0;32m--> 618\u001b[0m         \u001b[43mresult\u001b[49m\u001b[43m[\u001b[49m\u001b[43mquote\u001b[49m\u001b[43m]\u001b[49m\u001b[43m[\u001b[49m\u001b[38;5;124;43m\"\u001b[39;49m\u001b[38;5;124;43mresult\u001b[39;49m\u001b[38;5;124;43m\"\u001b[39;49m\u001b[43m]\u001b[49m\u001b[43m[\u001b[49m\u001b[38;5;241;43m0\u001b[39;49m\u001b[43m]\u001b[49m[\u001b[38;5;124m\"\u001b[39m\u001b[38;5;124msymbol\u001b[39m\u001b[38;5;124m\"\u001b[39m] \u001b[38;5;241m=\u001b[39m \u001b[38;5;28mself\u001b[39m\u001b[38;5;241m.\u001b[39m_symbol\n\u001b[1;32m    619\u001b[0m         query_info \u001b[38;5;241m=\u001b[39m \u001b[38;5;28mnext\u001b[39m(\n\u001b[1;32m    620\u001b[0m             (info \u001b[38;5;28;01mfor\u001b[39;00m info \u001b[38;5;129;01min\u001b[39;00m result\u001b[38;5;241m.\u001b[39mget(quote, {})\u001b[38;5;241m.\u001b[39mget(\u001b[38;5;124m\"\u001b[39m\u001b[38;5;124mresult\u001b[39m\u001b[38;5;124m\"\u001b[39m, [])\n\u001b[1;32m    621\u001b[0m              \u001b[38;5;28;01mif\u001b[39;00m info[\u001b[38;5;124m\"\u001b[39m\u001b[38;5;124msymbol\u001b[39m\u001b[38;5;124m\"\u001b[39m] \u001b[38;5;241m==\u001b[39m \u001b[38;5;28mself\u001b[39m\u001b[38;5;241m.\u001b[39m_symbol),\n\u001b[1;32m    622\u001b[0m             \u001b[38;5;28;01mNone\u001b[39;00m,\n\u001b[1;32m    623\u001b[0m         )\n\u001b[1;32m    624\u001b[0m         \u001b[38;5;28;01mif\u001b[39;00m query_info:\n",
      "\u001b[0;31mIndexError\u001b[0m: list index out of range"
     ]
    }
   ],
   "source": [
    "import yfinance as yf\n",
    "\n",
    "# Fetch Apple stock data\n",
    "stock = yf.Ticker(\"B\")\n",
    "\n",
    "# Get historical price data\n",
    "historical_data = stock.history(period=\"1mo\")  \n",
    "\n",
    "# Get current stock price\n",
    "print(\"Current Price:\", stock.info[\"currentPrice\"])\n"
   ]
  },
  {
   "cell_type": "code",
   "execution_count": null,
   "metadata": {},
   "outputs": [],
   "source": [
    "import os\n",
    "from dotenv import load_dotenv\n",
    "load_dotenv()"
   ]
  },
  {
   "cell_type": "code",
   "execution_count": null,
   "metadata": {},
   "outputs": [],
   "source": [
    "import requests\n",
    "\n",
    "API_KEY = os.getenv(\"ALPHA_VANTAGE_API_KEY\")\n",
    "symbol = \"AAPL\"\n",
    "url = f\"https://www.alphavantage.co/query?function=TIME_SERIES_DAILY&symbol={symbol}&apikey={API_KEY}\"\n",
    "\n",
    "response = requests.get(url)\n",
    "data = response.json()\n",
    "print(data)  # Daily stock prices\n",
    "\n"
   ]
  },
  {
   "cell_type": "code",
   "execution_count": null,
   "metadata": {},
   "outputs": [],
   "source": [
    "import requests\n",
    "\n",
    "API_KEY = os.getenv(\"FINNHUB_API_KEY\")\n",
    "symbol = \"AAPL\"\n",
    "url = f\"https://finnhub.io/api/v1/quote?symbol={symbol}&token={API_KEY}\"\n",
    "\n",
    "response = requests.get(url)\n",
    "data = response.json()\n",
    "print(data)\n",
    "print(f\"AAPL Price: {data['c']}\")  # 'c' = current price\n"
   ]
  },
  {
   "cell_type": "code",
   "execution_count": null,
   "metadata": {},
   "outputs": [],
   "source": [
    "import requests\n",
    "\n",
    "API_KEY = os.getenv(\"TWELVE_DATA_API_KEY\")\n",
    "symbol = \"AAPL\"\n",
    "url = f\"https://api.twelvedata.com/time_series?symbol={symbol}&interval=1day&apikey={API_KEY}\"\n",
    "\n",
    "response = requests.get(url)\n",
    "data = response.json()\n",
    "print(data)\n"
   ]
  },
  {
   "cell_type": "code",
   "execution_count": null,
   "metadata": {},
   "outputs": [],
   "source": [
    "import requests\n",
    "\n",
    "API_KEY = os.getenv(\"MARKETSTACK_API_KEY\")\n",
    "BASE_URL = \"http://api.marketstack.com/v1/eod\"\n",
    "\n",
    "params = {\n",
    "    \"access_key\": API_KEY,\n",
    "    \"symbols\": \"AAPL\",  # Example: Fetch Apple stock data\n",
    "    \"limit\": 5  # Get last 5 days' data\n",
    "}\n",
    "\n",
    "response = requests.get(BASE_URL, params=params)\n",
    "data = response.json()\n",
    "\n",
    "# Print latest stock prices\n",
    "for stock in data['data']:\n",
    "    print(f\"Date: {stock['date']}, Close Price: {stock['close']}\")\n"
   ]
  }
 ],
 "metadata": {
  "kernelspec": {
   "display_name": "altharion-venv",
   "language": "python",
   "name": "python3"
  },
  "language_info": {
   "codemirror_mode": {
    "name": "ipython",
    "version": 3
   },
   "file_extension": ".py",
   "mimetype": "text/x-python",
   "name": "python",
   "nbconvert_exporter": "python",
   "pygments_lexer": "ipython3",
   "version": "3.10.10"
  }
 },
 "nbformat": 4,
 "nbformat_minor": 2
}
