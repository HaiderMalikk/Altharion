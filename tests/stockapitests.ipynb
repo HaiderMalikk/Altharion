{
 "cells": [
  {
   "cell_type": "markdown",
   "metadata": {},
   "source": [
    "## 📊 Stock Market API Comparison Chart\n",
    "\n",
    "| API            | Free Tier          | Usage Limits                 | Data Types                     | Real-Time Data | Historical Data | Technical Indicators | Crypto & Forex |\n",
    "|---------------|--------------------|------------------------------|--------------------------------|---------------|----------------|----------------------|----------------|\n",
    "| **Yahoo Finance (`yfinance`)** | ✅ Free            | No hard limit (Unofficial)   | Stocks, ETFs, Commodities      | ❌ No (Delayed) | ✅ Yes (Full history) | ✅ Yes (Moving Avg, RSI) | ❌ No  |\n",
    "| **Alpha Vantage**   | ✅ Free (5 calls/min) | 25 requests/day (Free tier)  | Stocks, Crypto, Forex          | ❌ No          | ✅ Yes (Full history) | ✅ Yes (RSI, MACD, SMA, EMA) | ✅ Yes |\n",
    "| **Finnhub**         | ✅ Free (60 calls/min) | 60 requests/min (Free tier) | Stocks, Forex, Crypto          | ✅ Yes         | ✅ Yes (Full history) | ✅ Yes (SMA, EMA, MACD) | ✅ Yes |\n",
    "| **Twelve Data**     | ✅ Free (800 requests/month) | 8 requests/min (Free tier) | Stocks, Crypto, Forex          | ✅ Yes         | ✅ Yes (Full history) | ✅ Yes | ✅ Yes |\n",
    "| **Polygon.io**      | ❌ No Free Tier  | Paid plans only             | Stocks, Options, Forex, Crypto | ✅ Yes (Full Order Book) | ✅ Yes | ✅ Yes (AI Insights) | ✅ Yes |\n",
    "| **MarketStack**     | ✅ Free (1,000 requests/month) | 1,000 requests/month (Free) | Stocks (End-of-day data)       | ❌ No         | ✅ Yes | ❌ No | ❌ No |\n",
    "\n",
    "---\n",
    "\n",
    "## 🏆 Which API Should You Use?\n",
    "\n",
    "- **Best Free Option** → `yfinance` (No API key, unlimited requests)\n",
    "- **For Real-Time Data** → `Finnhub`, `Twelve Data`, `Polygon.io`\n",
    "- **For Technical Indicators** → `Alpha Vantage`, `Finnhub`, `Twelve Data`\n",
    "- **For Crypto & Forex** → `Alpha Vantage`, `Finnhub`, `Twelve Data`\n",
    "- **For Large-Scale Trading** → `Polygon.io` (Paid)\n",
    "\n",
    "---\n",
    "\n",
    "## 🔗 Get API Keys:\n",
    "\n",
    "- [Yahoo Finance (`yfinance`)](https://pypi.org/project/yfinance/) → No API key needed  \n",
    "- [Alpha Vantage](https://www.alphavantage.co/support/#api-key)  \n",
    "- [Finnhub](https://finnhub.io/register)  \n",
    "- [Twelve Data](https://twelvedata.com/)  \n",
    "- [Polygon.io](https://polygon.io/)  \n",
    "- [MarketStack](https://marketstack.com/)  \n",
    "\n"
   ]
  },
  {
   "cell_type": "code",
   "execution_count": null,
   "metadata": {},
   "outputs": [],
   "source": [
    "import yfinance as yf\n",
    "\n",
    "# Fetch Apple stock data\n",
    "stock = yf.Ticker(\"AAPL\")\n",
    "\n",
    "# TODO test period change effect\n",
    "# Get historical price data\n",
    "historical_data = stock.history(period=\"1mo\")  \n",
    "\n",
    "# Get current stock price\n",
    "print(\"Current Price:\", stock.info[\"currentPrice\"])\n"
   ]
  },
  {
   "cell_type": "code",
   "execution_count": null,
   "metadata": {},
   "outputs": [],
   "source": [
    "import os\n",
    "from dotenv import load_dotenv\n",
    "load_dotenv()"
   ]
  },
  {
   "cell_type": "code",
   "execution_count": null,
   "metadata": {},
   "outputs": [],
   "source": [
    "import requests\n",
    "\n",
    "API_KEY = os.getenv(\"ALPHA_VANTAGE_API_KEY\")\n",
    "symbol = \"AAPL\"\n",
    "url = f\"https://www.alphavantage.co/query?function=TIME_SERIES_DAILY&symbol={symbol}&apikey={API_KEY}\"\n",
    "\n",
    "response = requests.get(url)\n",
    "data = response.json()\n",
    "print(data)  # Daily stock prices\n",
    "\n"
   ]
  },
  {
   "cell_type": "code",
   "execution_count": null,
   "metadata": {},
   "outputs": [],
   "source": [
    "import requests\n",
    "\n",
    "API_KEY = os.getenv(\"FINNHUB_API_KEY\")\n",
    "symbol = \"AAPL\"\n",
    "url = f\"https://finnhub.io/api/v1/quote?symbol={symbol}&token={API_KEY}\"\n",
    "\n",
    "response = requests.get(url)\n",
    "data = response.json()\n",
    "print(data)\n",
    "print(f\"AAPL Price: {data['c']}\")  # 'c' = current price\n"
   ]
  },
  {
   "cell_type": "code",
   "execution_count": null,
   "metadata": {},
   "outputs": [],
   "source": [
    "import requests\n",
    "\n",
    "API_KEY = os.getenv(\"TWELVE_DATA_API_KEY\")\n",
    "symbol = \"AAPL\"\n",
    "url = f\"https://api.twelvedata.com/time_series?symbol={symbol}&interval=1day&apikey={API_KEY}\"\n",
    "\n",
    "response = requests.get(url)\n",
    "data = response.json()\n",
    "print(data)\n"
   ]
  },
  {
   "cell_type": "code",
   "execution_count": null,
   "metadata": {},
   "outputs": [],
   "source": [
    "import requests\n",
    "\n",
    "API_KEY = os.getenv(\"MARKETSTACK_API_KEY\")\n",
    "BASE_URL = \"http://api.marketstack.com/v1/eod\"\n",
    "\n",
    "params = {\n",
    "    \"access_key\": API_KEY,\n",
    "    \"symbols\": \"AAPL\",  # Example: Fetch Apple stock data\n",
    "    \"limit\": 5  # Get last 5 days' data\n",
    "}\n",
    "\n",
    "response = requests.get(BASE_URL, params=params)\n",
    "data = response.json()\n",
    "\n",
    "# Print latest stock prices\n",
    "for stock in data['data']:\n",
    "    print(f\"Date: {stock['date']}, Close Price: {stock['close']}\")\n"
   ]
  }
 ],
 "metadata": {
  "kernelspec": {
   "display_name": "altharion-venv",
   "language": "python",
   "name": "python3"
  },
  "language_info": {
   "codemirror_mode": {
    "name": "ipython",
    "version": 3
   },
   "file_extension": ".py",
   "mimetype": "text/x-python",
   "name": "python",
   "nbconvert_exporter": "python",
   "pygments_lexer": "ipython3",
   "version": "3.10.10"
  }
 },
 "nbformat": 4,
 "nbformat_minor": 2
}
