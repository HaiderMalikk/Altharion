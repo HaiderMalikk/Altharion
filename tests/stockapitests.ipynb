{
 "cells": [
  {
   "cell_type": "markdown",
   "metadata": {},
   "source": [
    "## 📊 Stock Market API Comparison Chart\n",
    "\n",
    "| API            | Free Tier          | Usage Limits                 | Data Types                     | Real-Time Data | Historical Data | Technical Indicators | Crypto & Forex |\n",
    "|---------------|--------------------|------------------------------|--------------------------------|---------------|----------------|----------------------|----------------|\n",
    "| **Yahoo Finance (`yfinance`)** | ✅ Free            | No hard limit (Unofficial)   | Stocks, ETFs, Commodities      | ❌ No (Delayed) | ✅ Yes (Full history) | ✅ Yes (Moving Avg, RSI) | ❌ No  |\n",
    "| **Alpha Vantage**   | ✅ Free (5 calls/min) | 25 requests/day (Free tier)  | Stocks, Crypto, Forex          | ❌ No          | ✅ Yes (Full history) | ✅ Yes (RSI, MACD, SMA, EMA) | ✅ Yes |\n",
    "| **Finnhub**         | ✅ Free (60 calls/min) | 60 requests/min (Free tier) | Stocks, Forex, Crypto          | ✅ Yes         | ✅ Yes (Full history) | ✅ Yes (SMA, EMA, MACD) | ✅ Yes |\n",
    "| **Twelve Data**     | ✅ Free (800 requests/month) | 8 requests/min (Free tier) | Stocks, Crypto, Forex          | ✅ Yes         | ✅ Yes (Full history) | ✅ Yes | ✅ Yes |\n",
    "| **Polygon.io**      | ❌ No Free Tier  | Paid plans only             | Stocks, Options, Forex, Crypto | ✅ Yes (Full Order Book) | ✅ Yes | ✅ Yes (AI Insights) | ✅ Yes |\n",
    "| **MarketStack**     | ✅ Free (1,000 requests/month) | 1,000 requests/month (Free) | Stocks (End-of-day data)       | ❌ No         | ✅ Yes | ❌ No | ❌ No |\n",
    "\n",
    "---\n",
    "\n",
    "## 🏆 Which API Should You Use?\n",
    "\n",
    "- **Best Free Option** → `yfinance` (No API key, unlimited requests)\n",
    "- **For Real-Time Data** → `Finnhub`, `Twelve Data`, `Polygon.io`\n",
    "- **For Technical Indicators** → `Alpha Vantage`, `Finnhub`, `Twelve Data`\n",
    "- **For Crypto & Forex** → `Alpha Vantage`, `Finnhub`, `Twelve Data`\n",
    "- **For Large-Scale Trading** → `Polygon.io` (Paid)\n",
    "\n",
    "---\n",
    "\n",
    "## 🔗 Get API Keys:\n",
    "\n",
    "- [Yahoo Finance (`yfinance`)](https://pypi.org/project/yfinance/) → No API key needed  \n",
    "- [Alpha Vantage](https://www.alphavantage.co/support/#api-key)  \n",
    "- [Finnhub](https://finnhub.io/register)  \n",
    "- [Twelve Data](https://twelvedata.com/)  \n",
    "- [Polygon.io](https://polygon.io/)  \n",
    "- [MarketStack](https://marketstack.com/)  \n",
    "\n"
   ]
  },
  {
   "cell_type": "code",
   "execution_count": 2,
   "metadata": {},
   "outputs": [
    {
     "name": "stdout",
     "output_type": "stream",
     "text": [
      "YF.download() has changed argument auto_adjust default to True\n",
      "Price            Close        High         Low        Open    Volume\n",
      "Ticker            AAPL        AAPL        AAPL        AAPL      AAPL\n",
      "Date                                                                \n",
      "2025-02-06  232.963867  233.543232  230.176923  231.035979  29925300\n",
      "2025-02-07  227.380005  233.743004  227.010401  232.344548  39707200\n",
      "2025-02-10  227.649994  230.589996  227.199997  229.570007  33115600\n",
      "2025-02-11  232.619995  235.229996  228.130005  228.199997  53718400\n",
      "2025-02-12  236.869995  236.960007  230.679993  231.199997  45243300\n",
      "2025-02-13  241.529999  242.339996  235.570007  236.910004  53614100\n",
      "2025-02-14  244.600006  245.550003  240.990005  241.250000  40896200\n",
      "2025-02-18  244.470001  245.179993  241.839996  244.149994  48822500\n",
      "2025-02-19  244.869995  246.009995  243.160004  244.660004  32204200\n",
      "2025-02-20  245.830002  246.779999  244.289993  244.940002  32316900\n",
      "2025-02-21  245.550003  248.690002  245.220001  245.949997  53197400\n",
      "2025-02-24  247.100006  248.860001  244.419998  244.929993  51326400\n",
      "2025-02-25  247.039993  250.000000  244.910004  248.000000  48013300\n",
      "2025-02-26  240.360001  244.979996  239.130005  244.330002  44433600\n",
      "2025-02-27  237.300003  242.460007  237.059998  239.410004  41153600\n",
      "2025-02-28  241.839996  242.089996  230.199997  236.949997  56833400\n",
      "2025-03-03  238.029999  244.029999  236.110001  241.789993  47184000\n",
      "2025-03-04  235.929993  240.070007  234.679993  237.710007  53798100\n",
      "2025-03-05  235.740005  236.550003  229.229996  235.494995  46969202\n"
     ]
    }
   ],
   "source": [
    "import yfinance as yf\n",
    "\n",
    "data = yf.download(\"AAPL\", period=\"1mo\", progress=False)\n",
    "print(data)\n"
   ]
  },
  {
   "cell_type": "code",
   "execution_count": null,
   "metadata": {},
   "outputs": [],
   "source": [
    "import os\n",
    "from dotenv import load_dotenv\n",
    "load_dotenv()"
   ]
  },
  {
   "cell_type": "code",
   "execution_count": null,
   "metadata": {},
   "outputs": [],
   "source": [
    "import requests\n",
    "\n",
    "API_KEY = os.getenv(\"ALPHA_VANTAGE_API_KEY\")\n",
    "symbol = \"AAPL\"\n",
    "url = f\"https://www.alphavantage.co/query?function=TIME_SERIES_DAILY&symbol={symbol}&apikey={API_KEY}\"\n",
    "\n",
    "response = requests.get(url)\n",
    "data = response.json()\n",
    "print(data)  # Daily stock prices\n",
    "\n"
   ]
  },
  {
   "cell_type": "code",
   "execution_count": null,
   "metadata": {},
   "outputs": [],
   "source": [
    "import requests\n",
    "\n",
    "API_KEY = os.getenv(\"FINNHUB_API_KEY\")\n",
    "symbol = \"AAPL\"\n",
    "url = f\"https://finnhub.io/api/v1/quote?symbol={symbol}&token={API_KEY}\"\n",
    "\n",
    "response = requests.get(url)\n",
    "data = response.json()\n",
    "print(data)\n",
    "print(f\"AAPL Price: {data['c']}\")  # 'c' = current price\n"
   ]
  },
  {
   "cell_type": "code",
   "execution_count": null,
   "metadata": {},
   "outputs": [],
   "source": [
    "import requests\n",
    "\n",
    "API_KEY = os.getenv(\"TWELVE_DATA_API_KEY\")\n",
    "symbol = \"AAPL\"\n",
    "url = f\"https://api.twelvedata.com/time_series?symbol={symbol}&interval=1day&apikey={API_KEY}\"\n",
    "\n",
    "response = requests.get(url)\n",
    "data = response.json()\n",
    "print(data)\n"
   ]
  },
  {
   "cell_type": "code",
   "execution_count": null,
   "metadata": {},
   "outputs": [],
   "source": [
    "import requests\n",
    "\n",
    "API_KEY = os.getenv(\"MARKETSTACK_API_KEY\")\n",
    "BASE_URL = \"http://api.marketstack.com/v1/eod\"\n",
    "\n",
    "params = {\n",
    "    \"access_key\": API_KEY,\n",
    "    \"symbols\": \"AAPL\",  # Example: Fetch Apple stock data\n",
    "    \"limit\": 5  # Get last 5 days' data\n",
    "}\n",
    "\n",
    "response = requests.get(BASE_URL, params=params)\n",
    "data = response.json()\n",
    "\n",
    "# Print latest stock prices\n",
    "for stock in data['data']:\n",
    "    print(f\"Date: {stock['date']}, Close Price: {stock['close']}\")\n"
   ]
  }
 ],
 "metadata": {
  "kernelspec": {
   "display_name": "altharion-venv",
   "language": "python",
   "name": "python3"
  },
  "language_info": {
   "codemirror_mode": {
    "name": "ipython",
    "version": 3
   },
   "file_extension": ".py",
   "mimetype": "text/x-python",
   "name": "python",
   "nbconvert_exporter": "python",
   "pygments_lexer": "ipython3",
   "version": "3.10.10"
  }
 },
 "nbformat": 4,
 "nbformat_minor": 2
}
